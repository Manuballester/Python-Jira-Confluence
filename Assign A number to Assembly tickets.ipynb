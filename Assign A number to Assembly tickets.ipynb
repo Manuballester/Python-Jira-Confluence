{
 "cells": [
  {
   "cell_type": "code",
   "execution_count": null,
   "id": "0a40bbbc",
   "metadata": {},
   "outputs": [],
   "source": [
    "# -*- coding: utf-8 -*-\n",
    "\"\"\"\n",
    "Read the docs will guide you.\n",
    "https://jira.readthedocs.io/en/master/\n",
    "\n",
    "This script is temporary. It creates A-XXXX numbers for assembly tickets. Should be added to \"AIVL ticket maker All assemblies Nominal.ipynb\"\n",
    "\n",
    "\"\"\"  \n",
    "\n",
    "import os\n",
    "from jira import JIRA\n",
    "import csv\n",
    "import pandas as pd\n",
    "\n",
    "#Do not put your credentials here. At the moment use env variables, but when we have the secret vault, use it and please purge old tokens.\n",
    "user = os.environ['JiraUser'] \n",
    "apikey = os.environ['JiraToken2']\n",
    "server = 'https://iceyedev.atlassian.net/'\n",
    "\n",
    "#Note, when using user specific token, the same token is for all your instances. Not just test or production. Act accordingly.\n",
    "options = {\n",
    " 'server': server\n",
    "}\n",
    "\n",
    "jira = JIRA(options, basic_auth=(user,apikey) )\n",
    "\n",
    "i = 255 #Write here the next number that should be created (just the number)\n",
    "\n",
    "for j in range(2578,2634): #Write here the range of numbers of the AIVL tickets that should be modified. Check before that there's just assemblies in this range\n",
    "    ticket = 'AIVL-' + str(j)\n",
    "    issue = jira.issue(ticket)\n",
    "    anumb = 'A-0' + str(i)\n",
    "    summ = issue.fields.summary\n",
    "    final = summ + ' - ' + anumb\n",
    "    upd = issue.update(summary = final) #Comment this line for testing, if not you will update all the AIVL tickets specified in the range\n",
    "    print(final)\n",
    "    i = i + 1"
   ]
  }
 ],
 "metadata": {
  "kernelspec": {
   "display_name": "Python 3",
   "language": "python",
   "name": "python3"
  },
  "language_info": {
   "codemirror_mode": {
    "name": "ipython",
    "version": 3
   },
   "file_extension": ".py",
   "mimetype": "text/x-python",
   "name": "python",
   "nbconvert_exporter": "python",
   "pygments_lexer": "ipython3",
   "version": "3.8.8"
  }
 },
 "nbformat": 4,
 "nbformat_minor": 5
}
